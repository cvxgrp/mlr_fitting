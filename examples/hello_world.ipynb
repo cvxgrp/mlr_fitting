{
 "cells": [
  {
   "cell_type": "code",
   "execution_count": 1,
   "id": "c7f808ad",
   "metadata": {},
   "outputs": [
    {
     "name": "stderr",
     "output_type": "stream",
     "text": [
      "/Users/parshakova.tanya/opt/anaconda3/envs/routing/lib/python3.9/site-packages/tqdm/auto.py:22: TqdmWarning: IProgress not found. Please update jupyter and ipywidgets. See https://ipywidgets.readthedocs.io/en/stable/user_install.html\n",
      "  from .autonotebook import tqdm as notebook_tqdm\n"
     ]
    }
   ],
   "source": [
    "import numpy as np\n",
    "\n",
    "import seaborn as sns\n",
    "import matplotlib.pyplot as plt\n",
    "\n",
    "import copy, time\n",
    "import random\n",
    "import pickle\n",
    "\n",
    "import mlrfit as mf"
   ]
  },
  {
   "cell_type": "code",
   "execution_count": 2,
   "id": "4759ee57",
   "metadata": {},
   "outputs": [],
   "source": [
    "np.random.seed(1001)\n",
    "random.seed(1001)"
   ]
  },
  {
   "attachments": {},
   "cell_type": "markdown",
   "id": "573d6bef",
   "metadata": {},
   "source": [
    "#  Matrix definition"
   ]
  },
  {
   "cell_type": "code",
   "execution_count": 3,
   "id": "b435696c",
   "metadata": {},
   "outputs": [],
   "source": [
    "rank = 20\n",
    "mtype = \"dgt\"\n",
    "\n",
    "m = 3500\n",
    "n = 3200\n",
    "\n",
    "A = mf.dgt_matrix(m, n, d=3, k=5)"
   ]
  },
  {
   "cell_type": "code",
   "execution_count": 4,
   "id": "051e8605",
   "metadata": {},
   "outputs": [
    {
     "data": {
      "text/plain": [
       "(1.992613960798277e-30,\n",
       " 0.031070391228852242,\n",
       " 0.9998269468836632,\n",
       " 0.6146209821428571)"
      ]
     },
     "execution_count": 4,
     "metadata": {},
     "output_type": "execute_result"
    }
   ],
   "source": [
    "A.min(), A.mean(), A.max(), 1.*(A>1e-6).sum()/A.size"
   ]
  },
  {
   "cell_type": "code",
   "execution_count": 5,
   "id": "1e847bb2",
   "metadata": {},
   "outputs": [],
   "source": [
    "max_num_levels = int(np.ceil(np.log2(min(m,n)))+1)"
   ]
  },
  {
   "attachments": {},
   "cell_type": "markdown",
   "id": "f2ebce87",
   "metadata": {},
   "source": [
    "# LR model"
   ]
  },
  {
   "cell_type": "code",
   "execution_count": 6,
   "id": "5ad3884a",
   "metadata": {},
   "outputs": [
    {
     "name": "stdout",
     "output_type": "stream",
     "text": [
      "0.5087598386871721\n"
     ]
    }
   ],
   "source": [
    "hpart = mf.random_hpartition(m, n, num_levels=1, perm=False)\n",
    "B1, C1 = mf.single_level_factor_fit(A, np.array([rank]), hpart, level=0)[:2]\n",
    "lr_losses = [mf.rel_diff(B1 @C1.T, den=A)]\n",
    "print(lr_losses[-1])"
   ]
  },
  {
   "attachments": {},
   "cell_type": "markdown",
   "id": "a9f73c40",
   "metadata": {},
   "source": [
    "# Factor fit \n",
    "### given (random) hierarchy"
   ]
  },
  {
   "attachments": {},
   "cell_type": "markdown",
   "id": "b0ad5287",
   "metadata": {},
   "source": [
    "#### Define random hierarchy "
   ]
  },
  {
   "cell_type": "code",
   "execution_count": 7,
   "id": "a5a910e3",
   "metadata": {},
   "outputs": [],
   "source": [
    "pi_rows, pi_cols = np.random.permutation(m), np.random.permutation(n)\n",
    "hpart = {'rows':{'pi':pi_rows, 'lk':[]}, 'cols':{'pi':pi_cols, 'lk':[]}} \n",
    "level_list = range(4)\n",
    "for level in level_list:\n",
    "    if 2**level+1 <= m and 2**level+1 <= n: \n",
    "        hpart['rows']['lk'] += [ np.linspace(0, m, 2**level+1, endpoint=True, dtype=int)]\n",
    "        hpart['cols']['lk'] += [ np.linspace(0, n, 2**level+1, endpoint=True, dtype=int)]\n",
    "    else:\n",
    "        hpart['rows']['lk'] += [ np.linspace(0, m, min(m,n)+1, endpoint=True, dtype=int)]\n",
    "        hpart['cols']['lk'] += [ np.linspace(0, n, min(m,n)+1, endpoint=True, dtype=int)]"
   ]
  },
  {
   "cell_type": "code",
   "execution_count": 8,
   "id": "78c471cd",
   "metadata": {},
   "outputs": [
    {
     "name": "stdout",
     "output_type": "stream",
     "text": [
      "level=0,  1\n",
      "    avg_row_bl_size=3500.0, avg_col_bl_size=3200.0\n",
      "level=1,  2\n",
      "    avg_row_bl_size=1750.0, avg_col_bl_size=1600.0\n",
      "level=2,  4\n",
      "    avg_row_bl_size=875.0, avg_col_bl_size=800.0\n",
      "level=3,  8\n",
      "    avg_row_bl_size=437.5, avg_col_bl_size=400.0\n"
     ]
    }
   ],
   "source": [
    "mf.hpart_info_print(hpart)"
   ]
  },
  {
   "attachments": {},
   "cell_type": "markdown",
   "id": "711e3a26",
   "metadata": {},
   "source": [
    "#### Rank allocation `ranks`"
   ]
  },
  {
   "cell_type": "code",
   "execution_count": 9,
   "id": "55025201",
   "metadata": {},
   "outputs": [
    {
     "name": "stdout",
     "output_type": "stream",
     "text": [
      "ranks=array([5, 5, 5, 5])\n"
     ]
    }
   ],
   "source": [
    "ranks = mf.uniform_ranks(rank, len(hpart['rows']['lk'])) \n",
    "print(f\"{ranks=}\")"
   ]
  },
  {
   "attachments": {},
   "cell_type": "markdown",
   "id": "74703b1c",
   "metadata": {},
   "source": [
    "#### Factor fit for given `hpart` and `ranks`"
   ]
  },
  {
   "cell_type": "code",
   "execution_count": 10,
   "id": "b17b52be",
   "metadata": {},
   "outputs": [
    {
     "name": "stderr",
     "output_type": "stream",
     "text": [
      "/Users/parshakova.tanya/opt/anaconda3/envs/routing/lib/python3.9/site-packages/mlrfit-0.0.1-py3.9.egg/mlrfit/utils.py:433: NumbaPerformanceWarning: \u001b[1m\u001b[1m\u001b[1mnp.dot() is faster on contiguous arrays, called on (array(float64, 2d, A), array(float64, 2d, A))\u001b[0m\u001b[0m\u001b[0m\n",
      "  hat_A_except_level[r1:r2, c1:c2] += np.dot(B_level[r1:r2], C_level[c1:c2].T)\n"
     ]
    },
    {
     "name": "stdout",
     "output_type": "stream",
     "text": [
      "itr=0, 0.7111209374759613, [5 5 5 5]\n"
     ]
    }
   ],
   "source": [
    "hat_A = mf.MLRMatrix()\n",
    "ff_losses = hat_A.factor_fit(A, ranks, hpart, freq=5, printing=True)"
   ]
  },
  {
   "attachments": {},
   "cell_type": "markdown",
   "id": "49200753",
   "metadata": {},
   "source": [
    "# Full fit\n",
    "### rank allocation + spectral partitioning + greedy refinement"
   ]
  },
  {
   "attachments": {},
   "cell_type": "markdown",
   "id": "fff74c3e",
   "metadata": {},
   "source": [
    "#### Initial rank allocation `ranks`"
   ]
  },
  {
   "cell_type": "code",
   "execution_count": 11,
   "id": "f6561620",
   "metadata": {},
   "outputs": [
    {
     "name": "stdout",
     "output_type": "stream",
     "text": [
      "ranks=array([2, 2, 2, 2, 2, 2, 2, 1, 1, 1, 1, 1, 1])\n"
     ]
    }
   ],
   "source": [
    "ranks = mf.uniform_ranks(rank, max_num_levels) \n",
    "print(f\"{ranks=}\")"
   ]
  },
  {
   "attachments": {},
   "cell_type": "markdown",
   "id": "72d53943",
   "metadata": {},
   "source": [
    "#### Find `hpart` for initial rank allocation `ranks`"
   ]
  },
  {
   "cell_type": "code",
   "execution_count": 12,
   "id": "90129fe8",
   "metadata": {},
   "outputs": [
    {
     "name": "stdout",
     "output_type": "stream",
     "text": [
      "* level=0, losses[0]=0.907, losses[-1]=0.907, len(losses)=2, [2]\n"
     ]
    },
    {
     "name": "stderr",
     "output_type": "stream",
     "text": [
      "OMP: Info #276: omp_set_nested routine deprecated, please use omp_set_max_active_levels instead.\n"
     ]
    },
    {
     "name": "stdout",
     "output_type": "stream",
     "text": [
      "* level=1, losses[0]=0.801, losses[-1]=0.797, len(losses)=2, [2 2]\n",
      "* level=2, losses[0]=0.687, losses[-1]=0.682, len(losses)=2, [2 2 2]\n",
      "* level=3, losses[0]=0.574, losses[-1]=0.569, len(losses)=2, [2 2 2 2]\n",
      "* level=4, losses[0]=0.496, losses[-1]=0.491, len(losses)=2, [2 2 2 2 2]\n",
      "* level=5, losses[0]=0.454, losses[-1]=0.450, len(losses)=2, [2 2 2 2 2 2]\n",
      "* level=6, losses[0]=0.436, losses[-1]=0.434, len(losses)=2, [2 2 2 2 2 2 2]\n",
      "* level=7, losses[0]=0.429, losses[-1]=0.428, len(losses)=2, [2 2 2 2 2 2 2 1]\n",
      "* level=8, losses[0]=0.424, losses[-1]=0.423, len(losses)=2, [2 2 2 2 2 2 2 1 1]\n",
      "* level=9, losses[0]=0.420, losses[-1]=0.420, len(losses)=2, [2 2 2 2 2 2 2 1 1 1]\n",
      "* level=10, losses[0]=0.418, losses[-1]=0.417, len(losses)=2, [2 2 2 2 2 2 2 1 1 1 1]\n",
      "* level=11, losses[0]=0.416, losses[-1]=0.415, len(losses)=2, [2 2 2 2 2 2 2 1 1 1 1 1]\n",
      "* level=12, losses[0]=0.414, losses[-1]=0.414, len(losses)=2, [2 2 2 2 2 2 2 1 1 1 1 1 1]\n",
      "level=12, loss=0.4135701178285843\n"
     ]
    }
   ],
   "source": [
    "hat_A = mf.MLRMatrix()\n",
    "_, _ = hat_A.hpartition_topdown(A, ranks)"
   ]
  },
  {
   "cell_type": "code",
   "execution_count": 13,
   "id": "8ff2c830",
   "metadata": {},
   "outputs": [
    {
     "name": "stdout",
     "output_type": "stream",
     "text": [
      "level=0,  1\n",
      "    avg_row_bl_size=3500.0, avg_col_bl_size=3200.0\n",
      "level=1,  2\n",
      "    avg_row_bl_size=1750.0, avg_col_bl_size=1600.0\n",
      "level=2,  4\n",
      "    avg_row_bl_size=875.0, avg_col_bl_size=800.0\n",
      "level=3,  8\n",
      "    avg_row_bl_size=437.5, avg_col_bl_size=400.0\n",
      "level=4,  16\n",
      "    avg_row_bl_size=218.8, avg_col_bl_size=200.0\n",
      "level=5,  32\n",
      "    avg_row_bl_size=109.4, avg_col_bl_size=100.0\n",
      "level=6,  64\n",
      "    avg_row_bl_size=54.7, avg_col_bl_size=50.0\n",
      "level=7,  128\n",
      "    avg_row_bl_size=27.3, avg_col_bl_size=25.0\n",
      "level=8,  256\n",
      "    avg_row_bl_size=13.7, avg_col_bl_size=12.5\n",
      "level=9,  512\n",
      "    avg_row_bl_size=6.8, avg_col_bl_size=6.2\n",
      "level=10,  1024\n",
      "    avg_row_bl_size=3.4, avg_col_bl_size=3.1\n",
      "level=11,  2048\n",
      "    avg_row_bl_size=1.7, avg_col_bl_size=1.6\n",
      "level=12,  3200\n",
      "    avg_row_bl_size=1.1, avg_col_bl_size=1.0\n"
     ]
    }
   ],
   "source": [
    "mf.hpart_info_print(hat_A.hpart)"
   ]
  },
  {
   "attachments": {},
   "cell_type": "markdown",
   "id": "eafabafa",
   "metadata": {},
   "source": [
    "#### Rank allocation for given `hpart` and `ranks`"
   ]
  },
  {
   "cell_type": "code",
   "execution_count": 14,
   "id": "b0d0cea9",
   "metadata": {},
   "outputs": [
    {
     "name": "stdout",
     "output_type": "stream",
     "text": [
      "itr=0, t=3, losses[0]=0.538446125505475, losses[-1]=0.4524837697549222, [2 2 2 2 2 2 2 1 1 1 1 1 1]\n",
      "itr=1, t=6, 0.4166171853585573, [3 2 2 2 2 2 2 1 1 1 1 1 0]\n",
      "itr=2, t=9, 0.3895054615469889, [4 2 2 2 2 2 2 1 1 1 1 0 0]\n",
      "itr=3, t=12, 0.36527912567017645, [5 2 2 2 2 2 2 1 1 1 0 0 0]\n",
      "itr=4, t=15, 0.3453470168491608, [6 2 2 2 2 2 2 1 1 0 0 0 0]\n",
      "itr=5, t=18, 0.3259628881392974, [6 3 2 2 2 2 2 1 0 0 0 0 0]\n",
      "itr=6, t=21, 0.3111795781464511, [7 3 2 2 2 2 2 0 0 0 0 0 0]\n",
      "itr=7, t=24, 0.2999044888573783, [8 3 2 2 2 2 1 0 0 0 0 0 0]\n",
      "itr=8, t=27, 0.29357581678318745, [9 3 2 2 2 1 1 0 0 0 0 0 0]\n",
      "itr=9, t=30, 0.28923157389234744, [8 3 3 2 2 1 1 0 0 0 0 0 0]\n",
      "itr=10, t=33, 0.28859675031784665, [7 4 3 2 2 1 1 0 0 0 0 0 0]\n",
      "itr=11, t=36, 0.2866544676241888, [8 3 3 2 2 1 1 0 0 0 0 0 0]\n",
      "quit: new rank allocation is worse\n",
      "itr=12, t=39, 0.2857668762297508, [8 3 3 2 2 1 1 0 0 0 0 0 0]\n"
     ]
    }
   ],
   "source": [
    "ra_losses, epochs, ranks_history = hat_A.rank_alloc(A, ranks, hat_A.hpart, freq=1)"
   ]
  },
  {
   "attachments": {},
   "cell_type": "markdown",
   "id": "a46fa410",
   "metadata": {},
   "source": [
    "# Comparison"
   ]
  },
  {
   "cell_type": "code",
   "execution_count": 15,
   "id": "75ec43f6",
   "metadata": {},
   "outputs": [
    {
     "name": "stdout",
     "output_type": "stream",
     "text": [
      "lr_losses[-1]=0.5087598386871721\n",
      "ff_losses[-1]=0.7105408720783372\n",
      "ra_losses[-1]=0.2857668762297508\n"
     ]
    }
   ],
   "source": [
    "print(f\"{lr_losses[-1]=}\")\n",
    "print(f\"{ff_losses[-1]=}\")\n",
    "print(f\"{ra_losses[-1]=}\")"
   ]
  },
  {
   "attachments": {},
   "cell_type": "markdown",
   "id": "28366e3c",
   "metadata": {},
   "source": [
    "# Matvec operation $\\hat A x$"
   ]
  },
  {
   "cell_type": "code",
   "execution_count": 16,
   "id": "110a4ba3",
   "metadata": {},
   "outputs": [],
   "source": [
    "hat_A.construct_sparse_format()\n",
    "hat_A_val = hat_A.matrix()\n",
    "x = np.random.randn(A.shape[1], 1)"
   ]
  },
  {
   "cell_type": "code",
   "execution_count": 17,
   "id": "f4036a8f",
   "metadata": {},
   "outputs": [
    {
     "data": {
      "text/plain": [
       "True"
      ]
     },
     "execution_count": 17,
     "metadata": {},
     "output_type": "execute_result"
    }
   ],
   "source": [
    "np.allclose(hat_A.matvec(x), hat_A_val@x)"
   ]
  },
  {
   "cell_type": "code",
   "execution_count": 18,
   "id": "78920cd1",
   "metadata": {},
   "outputs": [
    {
     "name": "stdout",
     "output_type": "stream",
     "text": [
      "flops ratio 84.68126134301271\n"
     ]
    }
   ],
   "source": [
    "sp_flops = 2*rank*(n + m) - rank - m\n",
    "print(\"flops ratio\", m * ( 2*n - 1) * 1.0 / sp_flops)"
   ]
  },
  {
   "cell_type": "code",
   "execution_count": 19,
   "id": "b77306bb",
   "metadata": {},
   "outputs": [
    {
     "name": "stdout",
     "output_type": "stream",
     "text": [
      "260 µs ± 11.1 µs per loop (mean ± std. dev. of 7 runs, 1,000 loops each)\n",
      "1.91 ms ± 78.1 µs per loop (mean ± std. dev. of 7 runs, 100 loops each)\n"
     ]
    }
   ],
   "source": [
    "%timeit hat_A.matvec(x)\n",
    "%timeit np.matmul(hat_A_val, x)"
   ]
  },
  {
   "cell_type": "code",
   "execution_count": null,
   "id": "70046ea1",
   "metadata": {},
   "outputs": [],
   "source": []
  }
 ],
 "metadata": {
  "kernelspec": {
   "display_name": "Python 3 (ipykernel)",
   "language": "python",
   "name": "python3"
  },
  "language_info": {
   "codemirror_mode": {
    "name": "ipython",
    "version": 3
   },
   "file_extension": ".py",
   "mimetype": "text/x-python",
   "name": "python",
   "nbconvert_exporter": "python",
   "pygments_lexer": "ipython3",
   "version": "3.9.16"
  },
  "vscode": {
   "interpreter": {
    "hash": "cbb24b48ae2642bb0fe3c3a73dd180d2cf6b4e8df7de3f3850c06f8dd008ecd7"
   }
  }
 },
 "nbformat": 4,
 "nbformat_minor": 5
}
