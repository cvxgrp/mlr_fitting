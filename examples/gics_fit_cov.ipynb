{
 "cells": [
  {
   "cell_type": "code",
   "execution_count": 1,
   "id": "6d72e5d4",
   "metadata": {},
   "outputs": [
    {
     "name": "stderr",
     "output_type": "stream",
     "text": [
      "/Users/parshakova.tanya/opt/anaconda3/envs/routing/lib/python3.9/site-packages/tqdm/auto.py:22: TqdmWarning: IProgress not found. Please update jupyter and ipywidgets. See https://ipywidgets.readthedocs.io/en/stable/user_install.html\n",
      "  from .autonotebook import tqdm as notebook_tqdm\n"
     ]
    }
   ],
   "source": [
    "import numpy as np\n",
    "\n",
    "import seaborn as sns\n",
    "import matplotlib.pyplot as plt\n",
    "\n",
    "import copy, time\n",
    "import random\n",
    "import pickle\n",
    "\n",
    "import mlrfit as mf"
   ]
  },
  {
   "cell_type": "code",
   "execution_count": 2,
   "id": "4759ee57",
   "metadata": {},
   "outputs": [],
   "source": [
    "np.random.seed(1001)\n",
    "random.seed(1001)"
   ]
  },
  {
   "attachments": {},
   "cell_type": "markdown",
   "id": "573d6bef",
   "metadata": {},
   "source": [
    "#  Matrix definition"
   ]
  },
  {
   "cell_type": "code",
   "execution_count": 3,
   "id": "b435696c",
   "metadata": {},
   "outputs": [
    {
     "name": "stdout",
     "output_type": "stream",
     "text": [
      "level=0, 1\n",
      "level=1, 11\n",
      "level=2, 24\n",
      "level=3, 69\n",
      "level=4, 157\n",
      "level=5, 5000\n"
     ]
    }
   ],
   "source": [
    "rank = 30\n",
    "mtype = 'assetcov_gics'\n",
    "\n",
    "with open(\"../data_finance/crsp_gics_5k_hpart.pkl\", \"rb\") as f:\n",
    "       gics_hpart = pickle.load(f)\n",
    "\n",
    "with open('../data_finance/crsp_gics_5k_C.npy', 'rb') as f:\n",
    "       C = np.load(f)\n",
    "\n",
    "m = n = gics_hpart['rows']['pi'].size\n",
    "for level in range(len(gics_hpart['rows']['lk'])):\n",
    "    print(f\"{level=}, {gics_hpart['rows']['lk'][level].size-1}\")\n",
    "\n",
    "Z = mf.demean_clip(C)\n",
    "A = Z @ Z.T / (Z.shape[1]-1)"
   ]
  },
  {
   "cell_type": "code",
   "execution_count": 4,
   "id": "d07fff32",
   "metadata": {},
   "outputs": [],
   "source": [
    "U, Vt, sigmas = mf.frob_low_rank(A)\n",
    "frob_losses = np.zeros(m)\n",
    "normalization = np.linalg.norm(A, ord='fro')\n",
    "# assert np.allclose(normalization, ((sigmas**2).sum())**0.5)\n",
    "sigmas2 = (sigmas**2)[::-1]\n",
    "frob_losses = np.concatenate([(np.cumsum(sigmas2)**0.5)[::-1][1:] / normalization, np.array([0])])"
   ]
  },
  {
   "cell_type": "code",
   "execution_count": 5,
   "id": "7efe9192",
   "metadata": {},
   "outputs": [
    {
     "data": {
      "image/png": "[encoded data removed]",
      "text/plain": [
       "<Figure size 600x360 with 1 Axes>"
      ]
     },
     "metadata": {},
     "output_type": "display_data"
    }
   ],
   "source": [
    "mf.plot_frob_error_rank(frob_losses)"
   ]
  },
  {
   "cell_type": "code",
   "execution_count": 6,
   "id": "a6bc7fe2",
   "metadata": {},
   "outputs": [
    {
     "data": {
      "text/plain": [
       "((5000, 300),\n",
       " (5000, 5000),\n",
       " -0.0018394775345592505,\n",
       " 0.014836883129622934,\n",
       " 0.0002737358427138843,\n",
       " 0.00025728376347159727)"
      ]
     },
     "execution_count": 6,
     "metadata": {},
     "output_type": "execute_result"
    }
   ],
   "source": [
    "C.shape, A.shape, A.min(), A.max(), A.mean(), A.std()"
   ]
  },
  {
   "cell_type": "code",
   "execution_count": 7,
   "id": "8e62bfa5",
   "metadata": {},
   "outputs": [],
   "source": [
    "eps_ff = 1e-2\n",
    "eps = 1e-3"
   ]
  },
  {
   "cell_type": "code",
   "execution_count": 8,
   "id": "80d79e96",
   "metadata": {},
   "outputs": [],
   "source": [
    "method = 'bcd'\n",
    "svds_v0 = True\n",
    "max_iters_ff = 2\n",
    "max_iters = 3*10**3\n",
    "PSD = True\n",
    "symm = True\n",
    "\n",
    "filename = \"%s_r%d_%d\"%(mtype, rank, n)"
   ]
  },
  {
   "cell_type": "markdown",
   "id": "49200753",
   "metadata": {},
   "source": [
    "# Rank allocation + spectral partitioning + greedy refinement"
   ]
  },
  {
   "cell_type": "code",
   "execution_count": 9,
   "id": "fc600efe",
   "metadata": {},
   "outputs": [],
   "source": [
    "info = {} "
   ]
  },
  {
   "cell_type": "code",
   "execution_count": 10,
   "id": "0d3f0f76",
   "metadata": {},
   "outputs": [
    {
     "name": "stdout",
     "output_type": "stream",
     "text": [
      "[0.16178478761767232]\n"
     ]
    }
   ],
   "source": [
    "# LR\n",
    "hpart = mf.random_hpartition(m, n, num_levels=1, symm=symm, perm=False)\n",
    "B1, C1 = mf.single_level_factor_fit(A, np.array([rank]), hpart, level=0, symm=symm, PSD=PSD)[:2]\n",
    "info['LR'] = {'loss':[mf.rel_diff(B1 @C1.T, den=A)]}\n",
    "print(info['LR']['loss'])"
   ]
  },
  {
   "cell_type": "code",
   "execution_count": 11,
   "id": "2be59ee8",
   "metadata": {},
   "outputs": [
    {
     "name": "stderr",
     "output_type": "stream",
     "text": [
      "/Users/parshakova.tanya/Documents/mlr_fitting/mlrfit/utils.py:404: NumbaPerformanceWarning: np.dot() is faster on contiguous arrays, called on (array(float64, 2d, A), array(float64, 2d, A))\n",
      "  hat_A_except_level[r1:r2, c1:c2] += np.dot(B_level[r1:r2], C_level[c1:c2].T)\n"
     ]
    },
    {
     "name": "stdout",
     "output_type": "stream",
     "text": [
      "fa_losses[-1]=0.1537922868665804 6 time=55.460\n"
     ]
    }
   ],
   "source": [
    "# LR+D fitting\n",
    "hpart = mf.random_hpartition(m, n, level_list=[0, int(np.log2(m))+1], symm=symm, perm=False)\n",
    "assert hpart['rows']['lk'][1].size == min(m,n)+1\n",
    "ranks = np.array([rank-1, 1])\n",
    "hat_A = mf.MLRMatrix(hpart=hpart, ranks=ranks)\n",
    "start_time = time.time()\n",
    "fa_losses = hat_A.factor_fit(A, ranks, hat_A.hpart, method=method, eps_ff=eps_ff/10000, \\\n",
    "                                  freq=100, svds_v0=svds_v0,\\\n",
    "                                  printing=False, max_iters_ff=max_iters, symm=symm, warm_start=False)\n",
    "fa_time = time.time()-start_time\n",
    "info['LR+D'] = {'loss':fa_losses, 'time':fa_time}\n",
    "print(f\"{fa_losses[-1]=} {len(fa_losses)} time={fa_time:.3f}\")"
   ]
  },
  {
   "cell_type": "code",
   "execution_count": 12,
   "id": "1e847bb2",
   "metadata": {},
   "outputs": [],
   "source": [
    "# GICS hierarchy\n",
    "num_levels = len(gics_hpart['rows']['lk'])"
   ]
  },
  {
   "cell_type": "code",
   "execution_count": 13,
   "id": "7ff51aa4",
   "metadata": {},
   "outputs": [
    {
     "name": "stdout",
     "output_type": "stream",
     "text": [
      "[5 5 5 5 5 5]\n",
      "itr=0, t=3, losses[0]=0.18304971186124508, losses[-1]=0.18115165653212797, [5 5 5 5 5 5]\n",
      "itr=1, t=6, 0.17760319373154995, [6 5 5 5 5 4]\n",
      "itr=2, t=9, 0.17526203538344337, [7 5 5 5 5 3]\n",
      "itr=3, t=12, 0.17320062948232995, [8 5 5 5 5 2]\n",
      "itr=4, t=15, 0.17123781655475356, [9 5 5 5 5 1]\n",
      "itr=5, t=18, 0.16976666828550335, [10  5  5  5  4  1]\n",
      "itr=6, t=21, 0.1683443592560673, [11  5  5  5  3  1]\n",
      "itr=7, t=24, 0.16699033223213045, [12  5  5  4  3  1]\n",
      "itr=8, t=27, 0.1658319270936777, [13  5  5  4  2  1]\n",
      "itr=9, t=30, 0.16473492603709036, [14  5  5  3  2  1]\n",
      "itr=10, t=33, 0.16369949161116465, [15  5  5  3  1  1]\n",
      "itr=11, t=36, 0.16271825209289337, [16  5  5  2  1  1]\n",
      "itr=12, t=39, 0.16183771490312615, [17  5  4  2  1  1]\n",
      "itr=13, t=42, 0.1609730679688495, [18  5  3  2  1  1]\n",
      "itr=14, t=45, 0.16005469382701504, [19  5  3  1  1  1]\n",
      "itr=15, t=48, 0.1592639628654469, [20  5  2  1  1  1]\n",
      "itr=16, t=51, 0.15860377442339196, [21  4  2  1  1  1]\n",
      "itr=17, t=54, 0.15789430844667762, [22  3  2  1  1  1]\n",
      "itr=18, t=57, 0.15714543741668827, [23  3  1  1  1  1]\n",
      "itr=19, t=60, 0.156527399872881, [24  2  1  1  1  1]\n",
      "itr=20, t=63, 0.1557835304779305, [25  2  1  1  0  1]\n",
      "itr=21, t=66, 0.15523730467736668, [26  1  1  1  0  1]\n",
      "itr=22, t=69, 0.15463389148281434, [27  1  1  0  0  1]\n",
      "itr=23, t=72, 0.1541334597291659, [28  1  0  0  0  1]\n",
      "itr=24, t=75, 0.1537924062023245, [29  0  0  0  0  1]\n",
      "quit: new rank allocation is worse\n",
      "itr=25, t=78, 0.15379228615265847, [29  0  0  0  0  1]\n",
      "td+ra time=1188.407\n"
     ]
    }
   ],
   "source": [
    "# uniform rank initialization + GICS hierarchy + rank allocation\n",
    "ranks = mf.uniform_ranks(rank, num_levels) \n",
    "print(ranks)\n",
    "hat_A = mf.MLRMatrix(hpart=gics_hpart, ranks=ranks)\n",
    "start_time = time.time()\n",
    "ra_losses, epochs, ranks_history_uni = hat_A.rank_alloc(A, ranks, hat_A.hpart, freq=1,\\\n",
    "                        eps=eps, eps_ff=eps_ff, max_iters=max_iters, PSD=PSD, symm=symm,\\\n",
    "                        max_iters_ff=max_iters_ff, warm_start=False)\n",
    "ra_time = time.time()-start_time\n",
    "info['MLR uniform'] = {'loss':ra_losses, 'ra_time':ra_time, 'epochs':epochs}\n",
    "print(f\"td+ra time={ra_time:.3f}\")"
   ]
  },
  {
   "cell_type": "code",
   "execution_count": 14,
   "id": "b8ab3ca7",
   "metadata": {},
   "outputs": [
    {
     "name": "stdout",
     "output_type": "stream",
     "text": [
      "[ 0  0  0  0  0 30]\n",
      "itr=0, t=3, losses[0]=0.9964034275153691, losses[-1]=0.9964034275153691, [ 0  0  0  0  0 30]\n",
      "itr=1, t=6, 0.25789623933139616, [ 1  0  0  0  0 29]\n",
      "itr=2, t=9, 0.22336450751609954, [ 2  0  0  0  0 28]\n",
      "itr=3, t=12, 0.20445675337736138, [ 3  0  0  0  0 27]\n",
      "itr=4, t=15, 0.1959904016189144, [ 4  0  0  0  0 26]\n",
      "itr=5, t=18, 0.1904434327633549, [ 5  0  0  0  0 25]\n",
      "itr=6, t=21, 0.18578546720178915, [ 6  0  0  0  0 24]\n",
      "itr=7, t=24, 0.18289954291436586, [ 7  0  0  0  0 23]\n",
      "itr=8, t=27, 0.18053266891609757, [ 8  0  0  0  0 22]\n",
      "itr=9, t=30, 0.17831097103325927, [ 9  0  0  0  0 21]\n",
      "itr=10, t=33, 0.1763781102590341, [10  0  0  0  0 20]\n",
      "itr=11, t=36, 0.17466271344630813, [11  0  0  0  0 19]\n",
      "itr=12, t=39, 0.17297096622362212, [12  0  0  0  0 18]\n",
      "itr=13, t=42, 0.17158598680520312, [13  0  0  0  0 17]\n",
      "itr=14, t=45, 0.17027252180523023, [14  0  0  0  0 16]\n",
      "itr=15, t=48, 0.1689720247460934, [15  0  0  0  0 15]\n",
      "itr=16, t=51, 0.1677186255495341, [16  0  0  0  0 14]\n",
      "itr=17, t=54, 0.16647850615838616, [17  0  0  0  0 13]\n",
      "itr=18, t=57, 0.1653154334415647, [18  0  0  0  0 12]\n",
      "itr=19, t=60, 0.1641668753724694, [19  0  0  0  0 11]\n",
      "itr=20, t=63, 0.16302524230347018, [20  0  0  0  0 10]\n",
      "itr=21, t=66, 0.16194041223166816, [21  0  0  0  0  9]\n",
      "itr=22, t=69, 0.16086034070097954, [22  0  0  0  0  8]\n",
      "itr=23, t=72, 0.15979156242581022, [23  0  0  0  0  7]\n",
      "itr=24, t=75, 0.15872549835483032, [24  0  0  0  0  6]\n",
      "itr=25, t=78, 0.15771415700360494, [25  0  0  0  0  5]\n",
      "itr=26, t=81, 0.1567084990408996, [26  0  0  0  0  4]\n",
      "itr=27, t=84, 0.15571110814277317, [27  0  0  0  0  3]\n",
      "itr=28, t=87, 0.15475142386771168, [28  0  0  0  0  2]\n",
      "itr=29, t=90, 0.15379228799036154, [29  0  0  0  0  1]\n",
      "quit: new rank allocation is worse\n",
      "itr=30, t=93, 0.15379228605054865, [29  0  0  0  0  1]\n",
      "td+ra time=1235.205\n"
     ]
    }
   ],
   "source": [
    "# bottom rank initialization + GICS hierarchy + rank allocation\n",
    "ranks = np.array((num_levels-1)*[0]+[rank]) \n",
    "print(ranks)\n",
    "hat_A = mf.MLRMatrix(hpart=gics_hpart, ranks=ranks)\n",
    "start_time = time.time()\n",
    "ra_losses, epochs, ranks_history_bottom = hat_A.rank_alloc(A, ranks, hat_A.hpart, freq=1,\\\n",
    "                        eps=eps, eps_ff=eps_ff, max_iters=max_iters, PSD=PSD, symm=symm,\\\n",
    "                        max_iters_ff=max_iters_ff, warm_start=False)\n",
    "ra_time = time.time()-start_time\n",
    "info['MLR bottom'] = {'loss':ra_losses, 'ra_time':ra_time, 'epochs':epochs}\n",
    "print(f\"td+ra time={ra_time:.3f}\")"
   ]
  },
  {
   "cell_type": "code",
   "execution_count": 15,
   "id": "0a2f723a",
   "metadata": {},
   "outputs": [
    {
     "name": "stdout",
     "output_type": "stream",
     "text": [
      "[30  0  0  0  0  0]\n",
      "itr=0, t=3, losses[0]=0.16178478761767176, losses[-1]=0.16178478761767173, [30  0  0  0  0  0]\n",
      "itr=1, t=6, 0.15379235716161116, [29  0  0  0  0  1]\n",
      "quit: new rank allocation is worse\n",
      "itr=2, t=9, 0.15379228616060095, [29  0  0  0  0  1]\n",
      "td+ra time=226.239\n"
     ]
    }
   ],
   "source": [
    "# top rank initialization + GICS hierarchy + rank allocation\n",
    "ranks = np.array([rank]+(num_levels-1)*[0])\n",
    "print(ranks)\n",
    "hat_A = mf.MLRMatrix(hpart=gics_hpart, ranks=ranks)\n",
    "start_time = time.time()\n",
    "ra_losses, epochs, ranks_history_top = hat_A.rank_alloc(A, ranks, hat_A.hpart, freq=1,\\\n",
    "                        eps=eps, eps_ff=eps_ff, max_iters=max_iters, PSD=PSD, symm=symm,\\\n",
    "                        max_iters_ff=max_iters_ff, warm_start=False)\n",
    "ra_time = time.time()-start_time\n",
    "info['MLR top'] = {'loss':ra_losses, 'ra_time':ra_time, 'epochs':epochs}\n",
    "print(f\"td+ra time={ra_time:.3f}\")"
   ]
  },
  {
   "cell_type": "code",
   "execution_count": 16,
   "id": "8fd5fe6a",
   "metadata": {},
   "outputs": [],
   "source": [
    "# mf.plot_loss_all_info(info, figsize=(7, 5), dpi=120, logscale=False, hline=True, ylim=[0.14, 0.3], filename='')"
   ]
  },
  {
   "cell_type": "code",
   "execution_count": 17,
   "id": "f13cc3fe",
   "metadata": {},
   "outputs": [
    {
     "data": {
      "image/png": "[encoded data removed]",
      "text/plain": [
       "<Figure size 720x480 with 1 Axes>"
      ]
     },
     "metadata": {},
     "output_type": "display_data"
    }
   ],
   "source": [
    "mf.plot_loss_all_info(info, labels=['MLR bottom', 'MLR uniform', 'MLR top'], figsize=(6, 4), dpi=120, \\\n",
    "                        logscale=False, hline=False, ylim=[0.15, 0.26], filename=\"plots/loss_%s.pdf\"%filename)"
   ]
  },
  {
   "cell_type": "code",
   "execution_count": 18,
   "id": "75ec43f6",
   "metadata": {},
   "outputs": [
    {
     "name": "stdout",
     "output_type": "stream",
     "text": [
      "LR             0.16178478761767232\n",
      "LR+D           0.1537922868665804\n",
      "MLR uniform    0.15379228615265847\n",
      "MLR bottom     0.15379228605054865\n",
      "MLR top        0.15379228616060095\n"
     ]
    }
   ],
   "source": [
    "for i, algo in enumerate(info.keys()):\n",
    "    print(f\"{algo:14s} {info[algo]['loss'][-1]}\")"
   ]
  },
  {
   "cell_type": "code",
   "execution_count": 19,
   "id": "996f34fc",
   "metadata": {},
   "outputs": [],
   "source": [
    "with open('outputs/info_%s.pickle'%filename, 'wb') as handle:\n",
    "    pickle.dump(info, handle, protocol=pickle.HIGHEST_PROTOCOL)"
   ]
  },
  {
   "cell_type": "code",
   "execution_count": 20,
   "id": "64b4a692",
   "metadata": {},
   "outputs": [],
   "source": [
    "rh_top = np.stack(ranks_history_top, axis=0)\n",
    "rh_bot = np.stack(ranks_history_bottom, axis=0)\n",
    "rh_uni = np.stack(ranks_history_uni, axis=0)\n",
    "\n",
    "with open('outputs/ranks_%s.pickle'%filename, 'wb') as handle:\n",
    "    pickle.dump([rh_bot, rh_uni, rh_top], handle, protocol=pickle.HIGHEST_PROTOCOL)"
   ]
  },
  {
   "cell_type": "code",
   "execution_count": 21,
   "id": "47fa0fd2",
   "metadata": {},
   "outputs": [
    {
     "data": {
      "image/png": "[encoded data removed]",
      "text/plain": [
       "<Figure size 500x800 with 3 Axes>"
      ]
     },
     "metadata": {},
     "output_type": "display_data"
    }
   ],
   "source": [
    "mf.plot_ra_evolution_col([rh_bot, rh_uni, rh_top],  dpi=100, figsize=(5, 8)) #filename=\"plots/ra_%s.pdf\"%filename)"
   ]
  },
  {
   "cell_type": "code",
   "execution_count": null,
   "id": "bc781a6d",
   "metadata": {},
   "outputs": [],
   "source": []
  }
 ],
 "metadata": {
  "kernelspec": {
   "display_name": "Python 3 (ipykernel)",
   "language": "python",
   "name": "python3"
  },
  "language_info": {
   "codemirror_mode": {
    "name": "ipython",
    "version": 3
   },
   "file_extension": ".py",
   "mimetype": "text/x-python",
   "name": "python",
   "nbconvert_exporter": "python",
   "pygments_lexer": "ipython3",
   "version": "3.9.16"
  },
  "vscode": {
   "interpreter": {
    "hash": "cbb24b48ae2642bb0fe3c3a73dd180d2cf6b4e8df7de3f3850c06f8dd008ecd7"
   }
  }
 },
 "nbformat": 4,
 "nbformat_minor": 5
}
