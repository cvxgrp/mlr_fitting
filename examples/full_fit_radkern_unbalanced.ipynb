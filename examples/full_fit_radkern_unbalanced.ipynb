{
 "cells": [
  {
   "cell_type": "code",
   "execution_count": 1,
   "id": "c7f808ad",
   "metadata": {},
   "outputs": [
    {
     "name": "stderr",
     "output_type": "stream",
     "text": [
      "/Users/parshakova.tanya/opt/anaconda3/envs/routing/lib/python3.9/site-packages/tqdm/auto.py:22: TqdmWarning: IProgress not found. Please update jupyter and ipywidgets. See https://ipywidgets.readthedocs.io/en/stable/user_install.html\n",
      "  from .autonotebook import tqdm as notebook_tqdm\n"
     ]
    }
   ],
   "source": [
    "import numpy as np\n",
    "\n",
    "import seaborn as sns\n",
    "import matplotlib.pyplot as plt\n",
    "\n",
    "import copy, time\n",
    "import random\n",
    "import pickle\n",
    "\n",
    "import mlrfit as mf"
   ]
  },
  {
   "cell_type": "code",
   "execution_count": 2,
   "id": "4759ee57",
   "metadata": {},
   "outputs": [],
   "source": [
    "np.random.seed(1001)\n",
    "random.seed(1001)"
   ]
  },
  {
   "attachments": {},
   "cell_type": "markdown",
   "id": "573d6bef",
   "metadata": {},
   "source": [
    "#  Matrix definition"
   ]
  },
  {
   "cell_type": "code",
   "execution_count": 3,
   "id": "b435696c",
   "metadata": {},
   "outputs": [
    {
     "name": "stdout",
     "output_type": "stream",
     "text": [
      "(array([ 184002,  552043,  918471, 1285673, 1653453, 2020104, 2386254]), array([6.73070112e-04, 2.86291170e-01, 5.71909270e-01, 8.57527370e-01,\n",
      "       1.14314547e+00, 1.42876357e+00, 1.71438167e+00, 1.99999977e+00]))\n"
     ]
    }
   ],
   "source": [
    "rank = 28\n",
    "balanced_partition = False\n",
    "kerns =  {\"exp2\": lambda r: np.exp(-r**2),\\\n",
    "          \"exp1\": lambda r: np.exp(-r),\\\n",
    "          \"quad\": lambda r: np.power((1 + r**2), -2),\\\n",
    "          \"inv_quad\": lambda r: np.power((1 + r**2), -1)}\n",
    "\n",
    "kern_type = \"quad\"\n",
    "mtype  = \"radkern_%s_allL_unbal\"%kern_type\n",
    "\n",
    "d = 3\n",
    "sigma = 0.9\n",
    "La = 3\n",
    "\n",
    "m = n = 3000 #5000\n",
    "A, Dist = mf.radial_kernel_matrix(d, sigma, n, La, kerns[kern_type])\n",
    "\n",
    "# with open(\"outputs/matrix_radkern_quad_allL_r28_5000_d3.pickle\", \"rb\") as f:\n",
    "#        A1 = pickle.load(f)\n",
    "# print(f\"{mf.rel_diff(A, A1)=}, {np.allclose(A, A1)=}\")\n",
    "\n",
    "symm = np.allclose(A, A.T) if m==n else False\n",
    "num_levels = int(np.ceil(np.log2(min(m, n))) + 1)"
   ]
  },
  {
   "cell_type": "code",
   "execution_count": 4,
   "id": "051e8605",
   "metadata": {},
   "outputs": [
    {
     "data": {
      "text/plain": [
       "(0.030836346019870967, 0.22903893242469725, 2.999976510155209, 1.0)"
      ]
     },
     "execution_count": 4,
     "metadata": {},
     "output_type": "execute_result"
    }
   ],
   "source": [
    "A.min(), A.mean(), A.max(), 1.*(A>1e-6).sum()/A.size"
   ]
  },
  {
   "cell_type": "code",
   "execution_count": 5,
   "id": "d07fff32",
   "metadata": {},
   "outputs": [],
   "source": [
    "U, Vt, sigmas = mf.frob_low_rank(A)\n",
    "frob_losses = np.zeros(m)\n",
    "normalization = np.linalg.norm(A, ord='fro')\n",
    "# assert np.allclose(normalization, ((sigmas**2).sum())**0.5)\n",
    "sigmas2 = (sigmas**2)[::-1]\n",
    "frob_losses = np.concatenate([(np.cumsum(sigmas2)**0.5)[::-1][1:] / normalization, np.array([0])])"
   ]
  },
  {
   "cell_type": "code",
   "execution_count": 6,
   "id": "7efe9192",
   "metadata": {},
   "outputs": [
    {
     "data": {
      "image/png": "[encoded data removed]",
      "text/plain": [
       "<Figure size 600x360 with 1 Axes>"
      ]
     },
     "metadata": {},
     "output_type": "display_data"
    }
   ],
   "source": [
    "mf.plot_frob_error_rank(frob_losses)"
   ]
  },
  {
   "cell_type": "code",
   "execution_count": 7,
   "id": "8e62bfa5",
   "metadata": {},
   "outputs": [],
   "source": [
    "eps_ff = 1e-2\n",
    "eps = 1e-3"
   ]
  },
  {
   "cell_type": "code",
   "execution_count": 8,
   "id": "80d79e96",
   "metadata": {},
   "outputs": [
    {
     "name": "stdout",
     "output_type": "stream",
     "text": [
      "symm=False\n"
     ]
    }
   ],
   "source": [
    "method = 'bcd'\n",
    "svds_v0 = True\n",
    "max_iters_ff = 2\n",
    "max_iters = 3*10**3\n",
    "grref_max_iters = 5000\n",
    "PSD = False\n",
    "refined = True\n",
    "symm = np.allclose(A, A.T) if m==n else False\n",
    "print(f\"{symm=}\")\n",
    "\n",
    "filename = \"%s_r%d_%d\"%(mtype, rank, n)"
   ]
  },
  {
   "attachments": {},
   "cell_type": "markdown",
   "id": "49200753",
   "metadata": {},
   "source": [
    "# Rank allocation + spectral partitioning + greedy refinement"
   ]
  },
  {
   "cell_type": "code",
   "execution_count": 9,
   "id": "fc600efe",
   "metadata": {},
   "outputs": [],
   "source": [
    "info = {} \n",
    "hparts = {}"
   ]
  },
  {
   "cell_type": "code",
   "execution_count": 10,
   "id": "0d3f0f76",
   "metadata": {},
   "outputs": [
    {
     "name": "stdout",
     "output_type": "stream",
     "text": [
      "0.22677686464323563\n"
     ]
    }
   ],
   "source": [
    "# LR\n",
    "hpart = mf.random_hpartition(m, n, num_levels=1, symm=symm, perm=False)\n",
    "B1, C1 = mf.single_level_factor_fit(A, np.array([rank]), hpart, level=0, symm=symm, PSD=PSD)[:2]\n",
    "info['LR'] = {'loss':[mf.rel_diff(B1 @C1.T, den=A)]}\n",
    "print(info['LR']['loss'][0])"
   ]
  },
  {
   "cell_type": "code",
   "execution_count": 11,
   "id": "2be59ee8",
   "metadata": {},
   "outputs": [
    {
     "name": "stderr",
     "output_type": "stream",
     "text": [
      "/Users/parshakova.tanya/Documents/projects/MLR_Matrices/mlr_fitting_private/mlrfit/utils.py:410: NumbaPerformanceWarning: \u001b[1m\u001b[1m\u001b[1mnp.dot() is faster on contiguous arrays, called on (array(float64, 2d, A), array(float64, 2d, A))\u001b[0m\u001b[0m\u001b[0m\n",
      "  hat_A_except_level[r1:r2, c1:c2] += np.dot(B_level[r1:r2], C_level[c1:c2].T)\n"
     ]
    },
    {
     "name": "stdout",
     "output_type": "stream",
     "text": [
      "fa_losses[-1]=0.23191906883895003 4 time=4.950\n"
     ]
    }
   ],
   "source": [
    "# LR+D fitting\n",
    "hpart = mf.random_hpartition(m, n, level_list=[0, int(np.log2(m))+1], symm=symm, perm=False)\n",
    "assert hpart['rows']['lk'][1].size == min(m,n)+1\n",
    "ranks = np.array([rank-1, 1])\n",
    "hat_A = mf.MLRMatrix(hpart=hpart, ranks=ranks)\n",
    "start_time = time.time()\n",
    "fa_losses = hat_A.factor_fit(A, ranks, hat_A.hpart, method=method, eps_ff=eps_ff/10000, \\\n",
    "                                  freq=100, svds_v0=svds_v0,\\\n",
    "                                  printing=False, max_iters_ff=max_iters, symm=symm, warm_start=False)\n",
    "fa_time = time.time()-start_time\n",
    "info['LR+D'] = {'loss':fa_losses, 'time':fa_time}\n",
    "print(f\"{fa_losses[-1]=} {len(fa_losses)} time={fa_time:.3f}\")"
   ]
  },
  {
   "cell_type": "code",
   "execution_count": 12,
   "id": "1e847bb2",
   "metadata": {},
   "outputs": [],
   "source": [
    "num_levels = int(np.ceil(np.log2(min(m,n)))+1)"
   ]
  },
  {
   "cell_type": "code",
   "execution_count": 13,
   "id": "7ff51aa4",
   "metadata": {},
   "outputs": [
    {
     "name": "stdout",
     "output_type": "stream",
     "text": [
      "[3 3 2 2 2 2 2 2 2 2 2 2 2]\n",
      "* level=0, losses[0]=0.702, losses[-1]=0.702, len(losses)=2, [3]\n"
     ]
    },
    {
     "name": "stderr",
     "output_type": "stream",
     "text": [
      "OMP: Info #276: omp_set_nested routine deprecated, please use omp_set_max_active_levels instead.\n"
     ]
    },
    {
     "name": "stdout",
     "output_type": "stream",
     "text": [
      "* level=1, losses[0]=0.532, losses[-1]=0.529, len(losses)=2, [3 3]\n",
      "* level=2, losses[0]=0.446, losses[-1]=0.442, len(losses)=2, [3 3 2]\n",
      "* level=3, losses[0]=0.382, losses[-1]=0.378, len(losses)=2, [3 3 2 2]\n",
      "* level=4, losses[0]=0.331, losses[-1]=0.327, len(losses)=2, [3 3 2 2 2]\n",
      "* level=5, losses[0]=0.300, losses[-1]=0.297, len(losses)=2, [3 3 2 2 2 2]\n",
      "* level=6, losses[0]=0.282, losses[-1]=0.280, len(losses)=2, [3 3 2 2 2 2 2]\n",
      "* level=7, losses[0]=0.272, losses[-1]=0.271, len(losses)=2, [3 3 2 2 2 2 2 2]\n",
      "* level=8, losses[0]=0.265, losses[-1]=0.264, len(losses)=2, [3 3 2 2 2 2 2 2 2]\n",
      "* level=9, losses[0]=0.260, losses[-1]=0.259, len(losses)=2, [3 3 2 2 2 2 2 2 2 2]\n",
      "* level=10, losses[0]=0.256, losses[-1]=0.255, len(losses)=2, [3 3 2 2 2 2 2 2 2 2 2]\n",
      "* level=11, losses[0]=0.253, losses[-1]=0.252, len(losses)=2, [3 3 2 2 2 2 2 2 2 2 2 2]\n",
      "num_blocks=1046\n",
      "* level=12, losses[0]=0.250, losses[-1]=0.250, len(losses)=2, [3 3 2 2 2 2 2 2 2 2 2 2 2]\n",
      "level=12, loss=0.24967377047770528\n",
      "td_losses[-1]=0.24967377047770528 time=141.664\n",
      "itr=0, t=4, losses[0]=0.24967377047770528, losses[-1]=0.24637119352089987, [3 3 2 2 2 2 2 2 2 2 2 2 2]\n",
      "itr=1, t=7, 0.21681755965250263, [4 3 2 2 2 2 2 2 2 2 2 2 1]\n",
      "itr=2, t=10, 0.1994306163228589, [5 3 2 2 2 2 2 2 2 2 2 2 0]\n",
      "itr=3, t=13, 0.18042590270463857, [6 3 2 2 2 2 2 2 2 2 2 1 0]\n",
      "itr=4, t=16, 0.1628310333616255, [7 3 2 2 2 2 2 2 2 2 2 0 0]\n",
      "itr=5, t=19, 0.15151839804684467, [8 3 2 2 2 2 2 2 2 2 1 0 0]\n",
      "itr=6, t=22, 0.14094923632198994, [9 3 2 2 2 2 2 2 2 2 0 0 0]\n",
      "itr=7, t=25, 0.1320561095876236, [10  3  2  2  2  2  2  2  2  1  0  0  0]\n",
      "itr=8, t=28, 0.12345413260817507, [11  3  2  2  2  2  2  2  1  1  0  0  0]\n",
      "itr=9, t=31, 0.11702884602351507, [12  3  2  2  2  2  2  2  1  0  0  0  0]\n",
      "itr=10, t=34, 0.11306191657818193, [13  3  2  2  2  2  2  1  1  0  0  0  0]\n",
      "itr=11, t=37, 0.11269451182819555, [12  4  2  2  2  2  2  1  1  0  0  0  0]\n",
      "itr=12, t=40, 0.11082734159029796, [13  3  2  2  2  2  2  1  1  0  0  0  0]\n",
      "itr=13, t=43, 0.11077328551576718, [12  3  3  2  2  2  2  1  1  0  0  0  0]\n",
      "quit: losses[-1-epoch_len] - losses[-1]=5.4056074530781095e-05, eps*losses[-1-epoch_len]=0.00011082734159029796\n",
      "itr=14, t=46, 0.10954939624262505, [12  3  3  2  2  2  2  1  1  0  0  0  0]\n",
      "td+ra time=273.389\n"
     ]
    }
   ],
   "source": [
    "# uniform rank initialization + spectral hierarchy + rank allocation\n",
    "ranks = mf.uniform_ranks(rank, num_levels) \n",
    "print(ranks)\n",
    "hat_A = mf.MLRMatrix()\n",
    "start_time = time.time()\n",
    "td_losses, _ = hat_A.hpartition_topdown(A, ranks, eps_ff=eps_ff, symm=symm, max_iters_ff=1, \\\n",
    "                                        balanced=balanced_partition, PSD=PSD, grref_max_iters=grref_max_iters)\n",
    "td_time = time.time()-start_time\n",
    "print(f\"{td_losses[-1]=} time={td_time:.3f}\")\n",
    "start_time = time.time()\n",
    "ra_losses, epochs, ranks_history_uni = hat_A.rank_alloc(A, ranks, hat_A.hpart, freq=1,\\\n",
    "                        eps=eps, eps_ff=eps_ff, max_iters=max_iters, PSD=PSD, symm=symm,\\\n",
    "                        max_iters_ff=max_iters_ff, warm_start=True)\n",
    "ra_time = time.time()-start_time\n",
    "info['MLR uniform'] = {'loss':ra_losses, 'td_time':td_time, 'ra_time':ra_time, 'epochs':epochs}\n",
    "print(f\"td+ra time={ra_time:.3f}\")\n",
    "assert np.allclose(ra_losses[0], td_losses[-1]), print(ra_losses[0], td_losses[-1])\n",
    "\n",
    "hparts[\"u\"] = hat_A.hpart"
   ]
  },
  {
   "cell_type": "code",
   "execution_count": 14,
   "id": "b8ab3ca7",
   "metadata": {},
   "outputs": [
    {
     "name": "stdout",
     "output_type": "stream",
     "text": [
      "[ 0  0  0  0  0  0  0  0  0  0  0  0 28]\n",
      "* level=0, losses[0]=1.000, losses[-1]=1.000, len(losses)=2, [0]\n",
      "* level=1, losses[0]=1.000, losses[-1]=1.000, len(losses)=2, [0 0]\n",
      "* level=2, losses[0]=1.000, losses[-1]=1.000, len(losses)=2, [0 0 0]\n",
      "* level=3, losses[0]=1.000, losses[-1]=1.000, len(losses)=2, [0 0 0 0]\n",
      "* level=4, losses[0]=1.000, losses[-1]=1.000, len(losses)=2, [0 0 0 0 0]\n",
      "* level=5, losses[0]=1.000, losses[-1]=1.000, len(losses)=2, [0 0 0 0 0 0]\n",
      "* level=6, losses[0]=1.000, losses[-1]=1.000, len(losses)=2, [0 0 0 0 0 0 0]\n",
      "* level=7, losses[0]=1.000, losses[-1]=1.000, len(losses)=2, [0 0 0 0 0 0 0 0]\n",
      "* level=8, losses[0]=1.000, losses[-1]=1.000, len(losses)=2, [0 0 0 0 0 0 0 0 0]\n",
      "* level=9, losses[0]=1.000, losses[-1]=1.000, len(losses)=2, [0 0 0 0 0 0 0 0 0 0]\n",
      "* level=10, losses[0]=1.000, losses[-1]=1.000, len(losses)=2, [0 0 0 0 0 0 0 0 0 0 0]\n",
      "* level=11, losses[0]=1.000, losses[-1]=1.000, len(losses)=2, [0 0 0 0 0 0 0 0 0 0 0 0]\n",
      "num_blocks=1872\n",
      "* level=12, losses[0]=0.991, losses[-1]=0.991, len(losses)=2, [ 0  0  0  0  0  0  0  0  0  0  0  0 28]\n",
      "level=12, loss=0.9908118607614502\n",
      "td_losses[-1]=0.9908118607614502 time=133.289\n",
      "itr=0, t=4, losses[0]=0.9908118607614502, losses[-1]=0.9908118607614502, [ 0  0  0  0  0  0  0  0  0  0  0  0 28]\n",
      "itr=1, t=7, 0.7346676851890256, [ 0  0  0  1  0  0  0  0  0  0  0  0 27]\n",
      "itr=2, t=10, 0.6346759688013668, [ 0  1  0  1  0  0  0  0  0  0  0  0 26]\n",
      "itr=3, t=13, 0.5556251531529411, [ 0  1  0  1  0  0  1  0  0  0  0  0 25]\n",
      "itr=4, t=16, 0.4940015919939688, [ 1  1  0  1  0  0  1  0  0  0  0  0 24]\n",
      "itr=5, t=19, 0.42468086097031577, [ 1  1  1  1  0  0  1  0  0  0  0  0 23]\n",
      "itr=6, t=22, 0.3795362155881081, [ 2  1  1  1  0  0  1  0  0  0  0  0 22]\n",
      "itr=7, t=25, 0.332757760889892, [ 3  1  1  1  0  0  1  0  0  0  0  0 21]\n",
      "itr=8, t=28, 0.30291029240625733, [ 3  2  1  1  0  0  1  0  0  0  0  0 20]\n",
      "itr=9, t=31, 0.27768380436874873, [ 4  2  1  1  0  0  1  0  0  0  0  0 19]\n",
      "itr=10, t=34, 0.25510564738627933, [ 5  2  1  1  0  0  1  0  0  0  0  0 18]\n",
      "itr=11, t=37, 0.22077524663066989, [ 5  2  1  1  1  0  1  0  0  0  0  0 17]\n",
      "itr=12, t=40, 0.20129782881084804, [ 5  2  2  1  1  0  1  0  0  0  0  0 16]\n",
      "itr=13, t=43, 0.1878993291184226, [ 6  2  2  1  1  0  1  0  0  0  0  0 15]\n",
      "itr=14, t=46, 0.17577641511524908, [ 7  2  2  1  1  0  1  0  0  0  0  0 14]\n",
      "itr=15, t=49, 0.16008713296761395, [ 7  3  2  1  1  0  1  0  0  0  0  0 13]\n",
      "itr=16, t=52, 0.1442028716698821, [ 7  3  2  2  1  0  1  0  0  0  0  0 12]\n",
      "itr=17, t=55, 0.1278033834092485, [ 7  3  2  2  1  1  1  0  0  0  0  0 11]\n",
      "itr=18, t=58, 0.11918436539263132, [ 8  3  2  2  1  1  1  0  0  0  0  0 10]\n",
      "itr=19, t=61, 0.11124551076498673, [9 3 2 2 1 1 1 0 0 0 0 0 9]\n",
      "itr=20, t=64, 0.10167079020578827, [9 4 2 2 1 1 1 0 0 0 0 0 8]\n",
      "itr=21, t=67, 0.09452281699124274, [9 4 2 2 1 2 1 0 0 0 0 0 7]\n",
      "itr=22, t=70, 0.0874993188255891, [9 4 3 2 1 2 1 0 0 0 0 0 6]\n",
      "itr=23, t=73, 0.08277470804259242, [10  4  3  2  1  2  1  0  0  0  0  0  5]\n",
      "itr=24, t=76, 0.07706958541450405, [10  5  3  2  1  2  1  0  0  0  0  0  4]\n",
      "itr=25, t=79, 0.07277093930183656, [11  5  3  2  1  2  1  0  0  0  0  0  3]\n",
      "itr=26, t=82, 0.06753182729813698, [11  5  3  3  1  2  1  0  0  0  0  0  2]\n",
      "itr=27, t=85, 0.062376645443504575, [11  5  3  3  2  2  1  0  0  0  0  0  1]\n",
      "itr=28, t=88, 0.05963106509895175, [11  6  3  3  2  2  1  0  0  0  0  0  0]\n",
      "itr=29, t=91, 0.058400110790095695, [11  5  3  3  2  2  1  1  0  0  0  0  0]\n",
      "quit: new rank allocation is worse\n",
      "itr=30, t=94, 0.05785881776020821, [11  5  3  3  2  2  1  1  0  0  0  0  0]\n",
      "td+ra time=585.945\n"
     ]
    }
   ],
   "source": [
    "# bottom rank initialization + spectral hierarchy + rank allocation\n",
    "ranks = np.array((num_levels-1)*[0]+[rank]) \n",
    "print(ranks)\n",
    "hat_A = mf.MLRMatrix(debug=False)\n",
    "start_time = time.time()\n",
    "td_losses, _ = hat_A.hpartition_topdown(A, ranks, eps_ff=eps_ff, symm=symm, max_iters_ff=1, \\\n",
    "                                        balanced=balanced_partition, PSD=PSD, grref_max_iters=grref_max_iters)\n",
    "td_time = time.time()-start_time\n",
    "print(f\"{td_losses[-1]=} time={td_time:.3f}\")\n",
    "start_time = time.time()\n",
    "ra_losses, epochs, ranks_history_bottom = hat_A.rank_alloc(A, ranks, hat_A.hpart, freq=1,\\\n",
    "                        eps=eps, eps_ff=eps_ff, max_iters=max_iters, PSD=PSD, symm=symm,\\\n",
    "                        max_iters_ff=max_iters_ff, warm_start=True)\n",
    "ra_time = time.time()-start_time\n",
    "info['MLR bottom'] = {'loss':ra_losses, 'td_time':td_time, 'ra_time':ra_time, 'epochs':epochs}\n",
    "print(f\"td+ra time={ra_time:.3f}\")\n",
    "assert np.allclose(ra_losses[0], td_losses[-1]), print(ra_losses[0], td_losses[-1])\n",
    "\n",
    "hparts[\"b\"] = hat_A.hpart"
   ]
  },
  {
   "cell_type": "code",
   "execution_count": 15,
   "id": "0a2f723a",
   "metadata": {},
   "outputs": [
    {
     "name": "stdout",
     "output_type": "stream",
     "text": [
      "[28  0  0  0  0  0  0  0  0  0  0  0  0]\n",
      "* level=0, losses[0]=0.227, losses[-1]=0.227, len(losses)=2, [28]\n",
      "* level=1, losses[0]=0.227, losses[-1]=0.227, len(losses)=2, [28  0]\n",
      "* level=2, losses[0]=0.227, losses[-1]=0.227, len(losses)=2, [28  0  0]\n",
      "* level=3, losses[0]=0.227, losses[-1]=0.227, len(losses)=2, [28  0  0  0]\n",
      "* level=4, losses[0]=0.227, losses[-1]=0.227, len(losses)=2, [28  0  0  0  0]\n",
      "* level=5, losses[0]=0.227, losses[-1]=0.227, len(losses)=2, [28  0  0  0  0  0]\n",
      "* level=6, losses[0]=0.227, losses[-1]=0.227, len(losses)=2, [28  0  0  0  0  0  0]\n",
      "* level=7, losses[0]=0.227, losses[-1]=0.227, len(losses)=2, [28  0  0  0  0  0  0  0]\n",
      "* level=8, losses[0]=0.227, losses[-1]=0.227, len(losses)=2, [28  0  0  0  0  0  0  0  0]\n",
      "* level=9, losses[0]=0.227, losses[-1]=0.227, len(losses)=2, [28  0  0  0  0  0  0  0  0  0]\n",
      "* level=10, losses[0]=0.227, losses[-1]=0.227, len(losses)=2, [28  0  0  0  0  0  0  0  0  0  0]\n",
      "* level=11, losses[0]=0.227, losses[-1]=0.227, len(losses)=2, [28  0  0  0  0  0  0  0  0  0  0  0]\n",
      "num_blocks=1732\n",
      "* level=12, losses[0]=0.227, losses[-1]=0.227, len(losses)=2, [28  0  0  0  0  0  0  0  0  0  0  0  0]\n",
      "level=12, loss=0.22677686464323554\n",
      "td_losses[-1]=0.22677686464323554 time=148.255\n",
      "itr=0, t=4, losses[0]=0.22677686464323554, losses[-1]=0.2267768646432356, [28  0  0  0  0  0  0  0  0  0  0  0  0]\n",
      "itr=1, t=7, 0.1868349523212774, [27  0  0  0  0  0  0  1  0  0  0  0  0]\n",
      "itr=2, t=10, 0.16557140993090239, [26  0  0  0  0  1  0  1  0  0  0  0  0]\n",
      "itr=3, t=13, 0.14989214353377484, [25  0  0  0  1  1  0  1  0  0  0  0  0]\n",
      "itr=4, t=16, 0.1372060707846402, [24  0  0  1  1  1  0  1  0  0  0  0  0]\n",
      "itr=5, t=19, 0.1279837442570912, [23  0  1  1  1  1  0  1  0  0  0  0  0]\n",
      "itr=6, t=22, 0.12132635790422824, [22  0  1  1  1  2  0  1  0  0  0  0  0]\n",
      "itr=7, t=25, 0.11507142346814957, [21  0  2  1  1  2  0  1  0  0  0  0  0]\n",
      "itr=8, t=28, 0.11046461828987283, [20  1  2  1  1  2  0  1  0  0  0  0  0]\n",
      "itr=9, t=31, 0.1057941487189471, [19  1  2  2  1  2  0  1  0  0  0  0  0]\n",
      "itr=10, t=34, 0.10223972733476819, [18  2  2  2  1  2  0  1  0  0  0  0  0]\n",
      "itr=11, t=37, 0.09987595142656983, [19  1  2  2  1  2  0  1  0  0  0  0  0]\n",
      "itr=12, t=40, 0.09841621369921659, [18  2  2  2  1  2  0  1  0  0  0  0  0]\n",
      "itr=13, t=43, 0.09582095951472873, [19  1  2  2  1  2  0  1  0  0  0  0  0]\n",
      "itr=14, t=46, 0.0948962967107384, [18  2  2  2  1  2  0  1  0  0  0  0  0]\n",
      "itr=15, t=49, 0.09405411157261356, [19  1  2  2  1  2  0  1  0  0  0  0  0]\n",
      "itr=16, t=52, 0.09349908615233307, [18  2  2  2  1  2  0  1  0  0  0  0  0]\n",
      "quit: new rank allocation is worse\n",
      "itr=17, t=55, 0.09292677438055731, [18  2  2  2  1  2  0  1  0  0  0  0  0]\n",
      "td+ra time=363.450\n"
     ]
    }
   ],
   "source": [
    "# top rank initialization + spectral hierarchy + rank allocation\n",
    "ranks = np.array([rank]+(num_levels-1)*[0])\n",
    "print(ranks)\n",
    "hat_A = mf.MLRMatrix()\n",
    "start_time = time.time()\n",
    "td_losses, _ = hat_A.hpartition_topdown(A, ranks, eps_ff=eps_ff, symm=symm, max_iters_ff=1, \\\n",
    "                                        balanced=balanced_partition, PSD=PSD, grref_max_iters=grref_max_iters)\n",
    "td_time = time.time()-start_time\n",
    "print(f\"{td_losses[-1]=} time={td_time:.3f}\")\n",
    "start_time = time.time()\n",
    "ra_losses, epochs, ranks_history_top = hat_A.rank_alloc(A, ranks, hat_A.hpart, freq=1,\\\n",
    "                        eps=eps, eps_ff=eps_ff, max_iters=max_iters, PSD=PSD, symm=symm,\\\n",
    "                        max_iters_ff=max_iters_ff, warm_start=True)\n",
    "ra_time = time.time()-start_time\n",
    "info['MLR top'] = {'loss':ra_losses, 'td_time':td_time, 'ra_time':ra_time, 'epochs':epochs}\n",
    "print(f\"td+ra time={ra_time:.3f}\")\n",
    "assert np.allclose(ra_losses[0], td_losses[-1]), print(ra_losses[0], td_losses[-1])\n",
    "\n",
    "hparts[\"t\"] = hat_A.hpart"
   ]
  },
  {
   "cell_type": "code",
   "execution_count": 16,
   "id": "8fd5fe6a",
   "metadata": {},
   "outputs": [],
   "source": [
    "# mf.plot_loss_all_info(info, figsize=(7, 5), dpi=120, logscale=False, hline=True, ylim=None, filename='')"
   ]
  },
  {
   "cell_type": "code",
   "execution_count": 17,
   "id": "f13cc3fe",
   "metadata": {},
   "outputs": [
    {
     "data": {
      "image/png": "[encoded data removed]",
      "text/plain": [
       "<Figure size 720x480 with 1 Axes>"
      ]
     },
     "metadata": {},
     "output_type": "display_data"
    }
   ],
   "source": [
    "mf.plot_loss_all_info(info, labels=['MLR bottom', 'MLR uniform', 'MLR top'], figsize=(6, 4), dpi=120, \\\n",
    "                        logscale=False, hline=False, ylim=None, filename='')"
   ]
  },
  {
   "cell_type": "code",
   "execution_count": 18,
   "id": "75ec43f6",
   "metadata": {},
   "outputs": [
    {
     "name": "stdout",
     "output_type": "stream",
     "text": [
      "LR             0.22677686464323563\n",
      "LR+D           0.23191906883895003\n",
      "MLR uniform    0.10954939624262505\n",
      "MLR bottom     0.05785881776020821\n",
      "MLR top        0.09292677438055731\n"
     ]
    }
   ],
   "source": [
    "for i, algo in enumerate(info.keys()):\n",
    "    print(f\"{algo:14s} {info[algo]['loss'][-1]}\")"
   ]
  },
  {
   "cell_type": "code",
   "execution_count": 19,
   "id": "996f34fc",
   "metadata": {},
   "outputs": [],
   "source": [
    "# with open('outputs/info_%s.pickle'%filename, 'wb') as handle:\n",
    "#     pickle.dump(info, handle, protocol=pickle.HIGHEST_PROTOCOL)\n",
    "\n",
    "with open('outputs/hparts_%s.pickle'%filename, 'wb') as handle:\n",
    "    pickle.dump(hparts, handle, protocol=pickle.HIGHEST_PROTOCOL)"
   ]
  },
  {
   "cell_type": "code",
   "execution_count": 20,
   "id": "64b4a692",
   "metadata": {},
   "outputs": [],
   "source": [
    "rh_top = np.stack(ranks_history_top, axis=0)\n",
    "rh_bot = np.stack(ranks_history_bottom, axis=0)\n",
    "rh_uni = np.stack(ranks_history_uni, axis=0)\n",
    "\n",
    "# with open('outputs/ranks_%s.pickle'%filename, 'wb') as handle:\n",
    "#     pickle.dump([rh_bot, rh_uni, rh_top], handle, protocol=pickle.HIGHEST_PROTOCOL)"
   ]
  },
  {
   "cell_type": "code",
   "execution_count": 21,
   "id": "47fa0fd2",
   "metadata": {},
   "outputs": [
    {
     "data": {
      "image/png": "[encoded data removed]",
      "text/plain": [
       "<Figure size 500x800 with 3 Axes>"
      ]
     },
     "metadata": {},
     "output_type": "display_data"
    }
   ],
   "source": [
    "mf.plot_ra_evolution_col([rh_bot, rh_uni, rh_top], dpi=100, figsize=(5, 8))  #filename=\"plots/ra_%s.pdf\"%filename)"
   ]
  },
  {
   "cell_type": "code",
   "execution_count": null,
   "id": "bc781a6d",
   "metadata": {},
   "outputs": [],
   "source": []
  }
 ],
 "metadata": {
  "kernelspec": {
   "display_name": "Python 3 (ipykernel)",
   "language": "python",
   "name": "python3"
  },
  "language_info": {
   "codemirror_mode": {
    "name": "ipython",
    "version": 3
   },
   "file_extension": ".py",
   "mimetype": "text/x-python",
   "name": "python",
   "nbconvert_exporter": "python",
   "pygments_lexer": "ipython3",
   "version": "3.9.16"
  },
  "vscode": {
   "interpreter": {
    "hash": "cbb24b48ae2642bb0fe3c3a73dd180d2cf6b4e8df7de3f3850c06f8dd008ecd7"
   }
  }
 },
 "nbformat": 4,
 "nbformat_minor": 5
}
