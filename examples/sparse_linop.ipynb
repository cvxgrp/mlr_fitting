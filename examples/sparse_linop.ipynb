{
 "cells": [
  {
   "cell_type": "code",
   "execution_count": 1,
   "id": "45a4e381",
   "metadata": {},
   "outputs": [
    {
     "name": "stderr",
     "output_type": "stream",
     "text": [
      "/Users/parshakova.tanya/opt/anaconda3/envs/routing/lib/python3.9/site-packages/tqdm/auto.py:22: TqdmWarning: IProgress not found. Please update jupyter and ipywidgets. See https://ipywidgets.readthedocs.io/en/stable/user_install.html\n",
      "  from .autonotebook import tqdm as notebook_tqdm\n"
     ]
    }
   ],
   "source": [
    "import mlrfit as mf\n",
    "\n",
    "import random\n",
    "import numpy as np\n",
    "\n",
    "from typing import List\n",
    "import timeit\n",
    "\n",
    "import seaborn as sns\n",
    "import matplotlib.pyplot as plt\n",
    "\n",
    "import scipy\n",
    "import pypardiso"
   ]
  },
  {
   "cell_type": "code",
   "execution_count": 2,
   "id": "4d9ba089",
   "metadata": {},
   "outputs": [],
   "source": [
    "np.random.seed(1001)\n",
    "random.seed(1001)"
   ]
  },
  {
   "cell_type": "code",
   "execution_count": 4,
   "id": "4c1bf56b",
   "metadata": {},
   "outputs": [],
   "source": [
    "from time import perf_counter\n",
    "\n",
    "def timer(f,*args):   \n",
    "    start = perf_counter()\n",
    "    f(*args)\n",
    "    return (perf_counter() - start)\n",
    "\n",
    "def run_repreat_func(func, repeats=1000):\n",
    "    def repeat_func(*args):\n",
    "        for _ in range(repeats):\n",
    "            func(*args)\n",
    "    return repeat_func\n",
    "\n",
    "repeats = 1000"
   ]
  },
  {
   "attachments": {},
   "cell_type": "markdown",
   "id": "d8fc2734",
   "metadata": {},
   "source": [
    "# Matvec operation"
   ]
  },
  {
   "cell_type": "code",
   "execution_count": 6,
   "id": "af3209a6",
   "metadata": {},
   "outputs": [],
   "source": [
    "times = {'np_d':[], 'np_s':[]}\n",
    "ratios = []"
   ]
  },
  {
   "cell_type": "code",
   "execution_count": 7,
   "id": "5b5d63df",
   "metadata": {},
   "outputs": [],
   "source": [
    "ns = [1000, 2000, 5000, 8000, 10000, 16000, 1000, 2000, 5000, 8000, 10000, 16000]\n",
    "rs = [16]*(len(ns)//2) + [50]*(len(ns)//2) "
   ]
  },
  {
   "cell_type": "code",
   "execution_count": 6,
   "id": "c5013eed",
   "metadata": {},
   "outputs": [
    {
     "name": "stdout",
     "output_type": "stream",
     "text": [
      "n=  1000, np_d=0.1320ms, np_s=0.0795ms, sparsity_ratio=31\n",
      "n=  2000, np_d=0.9468ms, np_s=0.1255ms, sparsity_ratio=62\n",
      "n=  5000, np_d=9.6241ms, np_s=0.3580ms, sparsity_ratio=156\n",
      "n=  8000, np_d=26.6097ms, np_s=0.5116ms, sparsity_ratio=250\n",
      "n= 10000, np_d=42.3435ms, np_s=0.5734ms, sparsity_ratio=312\n",
      "n= 16000, np_d=108.1744ms, np_s=0.9110ms, sparsity_ratio=500\n",
      "n=  1000, np_d=0.1458ms, np_s=0.1598ms, sparsity_ratio=10\n",
      "n=  2000, np_d=0.8414ms, np_s=0.2814ms, sparsity_ratio=20\n",
      "n=  5000, np_d=11.2895ms, np_s=0.7453ms, sparsity_ratio=50\n",
      "n=  8000, np_d=27.7961ms, np_s=1.2333ms, sparsity_ratio=80\n",
      "n= 10000, np_d=41.9273ms, np_s=1.5871ms, sparsity_ratio=100\n",
      "n= 16000, np_d=103.9378ms, np_s=2.4417ms, sparsity_ratio=160\n"
     ]
    }
   ],
   "source": [
    "for n, rank in zip(ns, rs):\n",
    "    x = np.random.randn(n, 1)\n",
    "    m = n\n",
    "    hpart = mf.random_hpartition(n,  n)\n",
    "    num_levels = len(hpart['rows']['lk'])\n",
    "    ranks = mf.uniform_capped_ranks(rank, hpart)\n",
    "    # print(f\"{ranks=}\")\n",
    "    hat_A = mf.MLRMatrix(hpart=hpart, ranks=ranks)\n",
    "    hat_A.construct_sparse_format()\n",
    "    hat_A_val = hat_A.matrix()\n",
    "\n",
    "    np_d = timer(run_repreat_func(np.matmul), hat_A_val, x)*1000./repeats\n",
    "    times['np_d'] += [np_d]\n",
    "    A_size = 1.*hat_A_val.size\n",
    "\n",
    "    assert np.allclose(hat_A.matvec(x), np.matmul(hat_A_val, x))\n",
    "    np_s = timer(run_repreat_func(hat_A.matvec), x)*1000./repeats\n",
    "    times['np_s'] += [np_s]\n",
    "    sp_size = hat_A.tilde_B.nnz + hat_A.tilde_Ct.nnz\n",
    "    sp_flops = 2*rank*(n + m) - rank - m\n",
    "    ratios += [m * ( 2*n - 1) * 1.0 / sp_flops]\n",
    "\n",
    "    print(f\"{n=:6d}, {np_d=:3.4f}ms, {np_s=:3.4f}ms, sparsity_ratio={A_size/sp_size:.0f}\")\n",
    "    del hat_A, hat_A_val"
   ]
  },
  {
   "cell_type": "code",
   "execution_count": 7,
   "id": "f8b9e70e",
   "metadata": {},
   "outputs": [
    {
     "data": {
      "text/plain": [
       "array([11.01631788,  6.72209305, 19.11967009,  3.31741333,  8.416481  ,\n",
       "        3.56721912,  3.80428361,  5.90378632,  3.77756678,  4.88226667,\n",
       "        4.29916137,  4.27752657])"
      ]
     },
     "execution_count": 7,
     "metadata": {},
     "output_type": "execute_result"
    }
   ],
   "source": [
    "time_ratios = np.divide(np.array(times['np_d']),  np.array(times['np_s']))\n",
    "size_ratios = np.array(ratios)\n",
    "idx = np.argsort(size_ratios)\n",
    "time_ratios = time_ratios[idx]\n",
    "size_ratios = size_ratios[idx]\n",
    "size_ratios / time_ratios"
   ]
  },
  {
   "cell_type": "code",
   "execution_count": 8,
   "id": "e383425e",
   "metadata": {},
   "outputs": [
    {
     "data": {
      "image/png": "[encoded data removed]",
      "text/plain": [
       "<Figure size 640x480 with 1 Axes>"
      ]
     },
     "metadata": {},
     "output_type": "display_data"
    }
   ],
   "source": [
    "lw = 1\n",
    "plt.rcParams['text.usetex'] = True\n",
    "cmp = sns.color_palette(\"hls\", 2+1)\n",
    "fig, ax = plt.subplots(1, 1, dpi=100)\n",
    "ax.plot(size_ratios, time_ratios, marker='.', markersize=3, label='time ratio', color=cmp[0])\n",
    "ax.plot([0, size_ratios[-1]], [0, size_ratios[-1]], marker='.', markersize=3, label='size ratio', ls=':', color=cmp[1])     \n",
    "for i in [0]:\n",
    "    # ax.set_yscale('log')\n",
    "    ax.grid(True)\n",
    "    ax.set_xlabel(\"flops ratio: dense to MLR\")\n",
    "    # ax.legend()\n",
    "ax.set_ylabel('time ratio: dense to MLR')\n",
    "fig.tight_layout()\n",
    "plt.show()"
   ]
  },
  {
   "attachments": {},
   "cell_type": "markdown",
   "id": "fc0c4f2e",
   "metadata": {},
   "source": [
    "# Matrix vector product"
   ]
  },
  {
   "cell_type": "code",
   "execution_count": 9,
   "id": "ca3f3935",
   "metadata": {},
   "outputs": [
    {
     "name": "stdout",
     "output_type": "stream",
     "text": [
      "\n",
      "m=1000, n=1000, rank=50, storage_ratio=10.0\n",
      "96.6 µs ± 1.93 µs per loop (mean ± std. dev. of 7 runs, 10,000 loops each)\n",
      "152 µs ± 758 ns per loop (mean ± std. dev. of 7 runs, 10,000 loops each)\n",
      "\n",
      "m=2000, n=2000, rank=50, storage_ratio=20.0\n",
      "617 µs ± 5.71 µs per loop (mean ± std. dev. of 7 runs, 1,000 loops each)\n",
      "279 µs ± 1.09 µs per loop (mean ± std. dev. of 7 runs, 1,000 loops each)\n",
      "\n",
      "m=5000, n=5000, rank=50, storage_ratio=50.0\n",
      "10.2 ms ± 346 µs per loop (mean ± std. dev. of 7 runs, 100 loops each)\n",
      "725 µs ± 3.79 µs per loop (mean ± std. dev. of 7 runs, 1,000 loops each)\n",
      "\n",
      "m=8000, n=8000, rank=50, storage_ratio=80.0\n",
      "26.3 ms ± 510 µs per loop (mean ± std. dev. of 7 runs, 10 loops each)\n",
      "1.17 ms ± 4.01 µs per loop (mean ± std. dev. of 7 runs, 1,000 loops each)\n",
      "\n",
      "m=16000, n=16000, rank=50, storage_ratio=160.0\n",
      "108 ms ± 2.15 ms per loop (mean ± std. dev. of 7 runs, 10 loops each)\n",
      "2.47 ms ± 108 µs per loop (mean ± std. dev. of 7 runs, 100 loops each)\n"
     ]
    }
   ],
   "source": [
    "for (m, n, rank) in [(1000, 1000, 50), (2000, 2000, 50), (5000, 5000, 50), (8000, 8000, 50), (16000, 16000, 50)]:\n",
    "    print(f\"\\n{m=}, {n=}, {rank=}, storage_ratio={ m * n * 1.0 / ((m+n)*rank)}\")\n",
    "    x = np.random.randn(n, 1)\n",
    "    hpart = mf.random_hpartition(m,  n)\n",
    "    num_levels = len(hpart['rows']['lk'])\n",
    "    ranks = mf.uniform_capped_ranks(rank, hpart)\n",
    "    # print(f\"{ranks=}\")\n",
    "    hat_A = mf.MLRMatrix(hpart=hpart, ranks=ranks)\n",
    "    hat_A.construct_sparse_format()\n",
    "    hat_A_val = hat_A.matrix()\n",
    "\n",
    "    assert np.allclose(hat_A.matvec(x), np.matmul(hat_A_val, x))\n",
    "\n",
    "    %timeit np.matmul(hat_A_val, x)\n",
    "    %timeit hat_A.matvec(x)\n",
    "    \n",
    "    del hat_A, hat_A_val"
   ]
  },
  {
   "attachments": {},
   "cell_type": "markdown",
   "id": "c8c81f86",
   "metadata": {},
   "source": [
    "# Least squares"
   ]
  },
  {
   "cell_type": "code",
   "execution_count": 10,
   "id": "a14ae7b8",
   "metadata": {},
   "outputs": [
    {
     "name": "stdout",
     "output_type": "stream",
     "text": [
      "\n",
      "m=1500, n=1000, rank=50, storage_ratio=12.0\n",
      "dense matrix ls time:\n"
     ]
    },
    {
     "name": "stderr",
     "output_type": "stream",
     "text": [
      "<magic-timeit>:1: FutureWarning: `rcond` parameter will change to the default of machine precision times ``max(M, N)`` where M and N are the input matrix dimensions.\n",
      "To use the future default and silence this warning we advise to pass `rcond=None`, to keep using the old, explicitly pass `rcond=-1`.\n"
     ]
    },
    {
     "name": "stdout",
     "output_type": "stream",
     "text": [
      "241 ms ± 17.1 ms per loop (mean ± std. dev. of 7 runs, 1 loop each)\n",
      "sparse matrix ls time:\n",
      "2.55 ms ± 60.1 µs per loop (mean ± std. dev. of 7 runs, 100 loops each)\n",
      "\n",
      "m=2500, n=2000, rank=50, storage_ratio=22.22222222222222\n",
      "dense matrix ls time:\n",
      "1.67 s ± 8.6 ms per loop (mean ± std. dev. of 7 runs, 1 loop each)\n",
      "sparse matrix ls time:\n",
      "4.27 ms ± 30.2 µs per loop (mean ± std. dev. of 7 runs, 100 loops each)\n",
      "\n",
      "m=5500, n=5000, rank=50, storage_ratio=52.38095238095238\n",
      "1.906722107474433e-06\n",
      "dense matrix ls time:\n",
      "26.3 s ± 1.23 s per loop (mean ± std. dev. of 7 runs, 1 loop each)\n",
      "sparse matrix ls time:\n",
      "10.8 ms ± 1.81 ms per loop (mean ± std. dev. of 7 runs, 100 loops each)\n",
      "\n",
      "m=7500, n=7000, rank=50, storage_ratio=72.41379310344827\n",
      "8.26590646926477e-08\n",
      "dense matrix ls time:\n",
      "1min 22s ± 2.1 s per loop (mean ± std. dev. of 7 runs, 1 loop each)\n",
      "sparse matrix ls time:\n",
      "13.9 ms ± 133 µs per loop (mean ± std. dev. of 7 runs, 100 loops each)\n"
     ]
    }
   ],
   "source": [
    "for (m, n, rank) in [(1000, 1000, 50), (2000, 2000, 50), (5000, 5000, 50), (7000, 7000, 50)]:\n",
    "    m += 500\n",
    "    print(f\"\\n{m=}, {n=}, {rank=}, storage_ratio={ m * n * 1.0 / ((m+n)*rank)}\")\n",
    "    x = np.random.randn(n, 1)\n",
    "    hpart = mf.random_hpartition(m,  n)\n",
    "    num_levels = len(hpart['rows']['lk'])\n",
    "    ranks = mf.uniform_capped_ranks(rank, hpart)\n",
    "    # print(f\"{ranks=}\")\n",
    "    hat_A = mf.MLRMatrix(hpart=hpart, ranks=ranks)\n",
    "    hat_A.construct_sparse_format()\n",
    "    hat_A_val = hat_A.matrix()\n",
    "\n",
    "    b = np.random.randn(m, 1)\n",
    "    \n",
    "    try:\n",
    "        assert np.allclose((hat_A_val.T @ hat_A_val @ hat_A.lstsq(b)).flatten(), \\\n",
    "                       (hat_A_val.T @ b).flatten())\n",
    "    except:\n",
    "        print(mf.rel_diff(hat_A_val.T @ hat_A_val @ hat_A.lstsq(b).flatten(), \\\n",
    "                       (hat_A_val.T @ b).flatten()))\n",
    "    \n",
    "    print(\"dense matrix ls time:\")\n",
    "    %timeit np.linalg.lstsq(hat_A_val, b)[0]\n",
    "    print(\"sparse matrix ls time:\")\n",
    "    %timeit hat_A.lstsq(b)\n",
    "    \n",
    "    del hat_A, hat_A_val"
   ]
  },
  {
   "cell_type": "code",
   "execution_count": 3,
   "id": "aa9fef1e",
   "metadata": {},
   "outputs": [
    {
     "data": {
      "text/plain": [
       "[94.5, 391.1, 2435.2, 5899.3]"
      ]
     },
     "execution_count": 3,
     "metadata": {},
     "output_type": "execute_result"
    }
   ],
   "source": [
    "# factor of speed gain\n",
    "[np.round(a,1) for a in [241/2.55, 1.67/0.00427, 26.3/0.0108, (60+22)/0.0139]]"
   ]
  },
  {
   "attachments": {},
   "cell_type": "markdown",
   "id": "176b9f35",
   "metadata": {},
   "source": [
    "# Linear system solve $Ax=b$ vs $\\tilde B \\tilde C^T x = b$"
   ]
  },
  {
   "cell_type": "code",
   "execution_count": 14,
   "id": "b4328858",
   "metadata": {},
   "outputs": [
    {
     "name": "stdout",
     "output_type": "stream",
     "text": [
      "\n",
      "m=1000, n=1000, rank=50, storage_ratio=10.0\n",
      "dense matrix solve time:\n",
      "9.23 ms ± 598 µs per loop (mean ± std. dev. of 7 runs, 100 loops each)\n",
      "sparse matrix solve time:\n",
      "800 µs ± 24.2 µs per loop (mean ± std. dev. of 7 runs, 1,000 loops each)\n",
      "\n",
      "m=2000, n=2000, rank=50, storage_ratio=20.0\n",
      "dense matrix solve time:\n",
      "64.1 ms ± 5.62 ms per loop (mean ± std. dev. of 7 runs, 10 loops each)\n",
      "sparse matrix solve time:\n",
      "1.63 ms ± 15.5 µs per loop (mean ± std. dev. of 7 runs, 1,000 loops each)\n",
      "\n",
      "m=5000, n=5000, rank=50, storage_ratio=50.0\n",
      "dense matrix solve time:\n",
      "793 ms ± 7.59 ms per loop (mean ± std. dev. of 7 runs, 1 loop each)\n",
      "sparse matrix solve time:\n",
      "3.95 ms ± 58.3 µs per loop (mean ± std. dev. of 7 runs, 100 loops each)\n",
      "\n",
      "m=8000, n=8000, rank=50, storage_ratio=80.0\n",
      "dense matrix solve time:\n",
      "3.06 s ± 161 ms per loop (mean ± std. dev. of 7 runs, 1 loop each)\n",
      "sparse matrix solve time:\n",
      "6.61 ms ± 636 µs per loop (mean ± std. dev. of 7 runs, 100 loops each)\n",
      "\n",
      "m=10000, n=10000, rank=50, storage_ratio=100.0\n",
      "dense matrix solve time:\n",
      "5.7 s ± 65.2 ms per loop (mean ± std. dev. of 7 runs, 1 loop each)\n",
      "sparse matrix solve time:\n",
      "8.13 ms ± 117 µs per loop (mean ± std. dev. of 7 runs, 100 loops each)\n",
      "\n",
      "m=16000, n=16000, rank=50, storage_ratio=160.0\n",
      "3.6113758467173845e-09\n",
      "2.3701014159171433e-08\n",
      "dense matrix solve time:\n",
      "22.4 s ± 169 ms per loop (mean ± std. dev. of 7 runs, 1 loop each)\n",
      "sparse matrix solve time:\n",
      "13.8 ms ± 71.4 µs per loop (mean ± std. dev. of 7 runs, 100 loops each)\n"
     ]
    }
   ],
   "source": [
    "for (m, n, rank) in [(1000, 1000, 50), (2000, 2000, 50), (5000, 5000, 50), (8000, 8000, 50), (10000, 10000, 50), (16000, 16000, 50)]:\n",
    "    \n",
    "    print(f\"\\n{m=}, {n=}, {rank=}, storage_ratio={ m * n * 1.0 / ((m+n)*rank)}\")\n",
    "    x = np.random.randn(n, 1)\n",
    "    hpart = mf.random_hpartition(n,  n)\n",
    "    num_levels = len(hpart['rows']['lk'])\n",
    "    ranks = mf.uniform_capped_ranks(rank, hpart)\n",
    "    # print(f\"{ranks=}\")\n",
    "    hat_A = mf.MLRMatrix(hpart=hpart, ranks=ranks)\n",
    "    hat_A.construct_sparse_format()\n",
    "    hat_A_val = hat_A.matrix()\n",
    "\n",
    "    b = np.random.randn(m, 1)\n",
    "    try:\n",
    "        assert np.allclose(b.flatten(), (hat_A_val @ np.linalg.solve(hat_A_val, b)).flatten() )\n",
    "        assert np.allclose((hat_A_val @ hat_A.solve(b)).flatten(), b.flatten())\n",
    "    except:\n",
    "        print(mf.rel_diff(b.flatten(), (hat_A_val @ np.linalg.solve(hat_A_val, b)).flatten() ))\n",
    "        print(mf.rel_diff((hat_A_val @ hat_A.solve(b)).flatten(), b.flatten()))\n",
    "\n",
    "    print(\"dense matrix solve time:\")\n",
    "    %timeit np.linalg.solve(hat_A_val, b)\n",
    "    print(\"sparse matrix solve time:\")\n",
    "    %timeit hat_A.solve(b)\n",
    "\n",
    "    del hat_A, hat_A_val"
   ]
  },
  {
   "cell_type": "code",
   "execution_count": 4,
   "id": "a16793fc",
   "metadata": {},
   "outputs": [
    {
     "data": {
      "text/plain": [
       "[11.5, 39.3, 200.8, 462.9, 701.1, 1623.2]"
      ]
     },
     "execution_count": 4,
     "metadata": {},
     "output_type": "execute_result"
    }
   ],
   "source": [
    "# factor of speed gain\n",
    "[np.round(a,1) for a in [9.23/0.8, 64.1/1.63, 793/3.95, 3.06/0.00661, 5.7/0.00813, 22.4/0.0138]]"
   ]
  }
 ],
 "metadata": {
  "kernelspec": {
   "display_name": "routing",
   "language": "python",
   "name": "python3"
  },
  "language_info": {
   "codemirror_mode": {
    "name": "ipython",
    "version": 3
   },
   "file_extension": ".py",
   "mimetype": "text/x-python",
   "name": "python",
   "nbconvert_exporter": "python",
   "pygments_lexer": "ipython3",
   "version": "3.9.16"
  },
  "vscode": {
   "interpreter": {
    "hash": "cbb24b48ae2642bb0fe3c3a73dd180d2cf6b4e8df7de3f3850c06f8dd008ecd7"
   }
  }
 },
 "nbformat": 4,
 "nbformat_minor": 5
}
